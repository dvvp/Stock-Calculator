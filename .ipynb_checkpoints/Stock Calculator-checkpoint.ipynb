{
 "cells": [
  {
   "cell_type": "markdown",
   "id": "8023a627",
   "metadata": {},
   "source": [
    "# Stock Calculator"
   ]
  },
  {
   "cell_type": "code",
   "execution_count": 20,
   "id": "4d8f0361",
   "metadata": {},
   "outputs": [],
   "source": [
    "# Imports\n",
    "from ipywidgets import widgets"
   ]
  },
  {
   "cell_type": "code",
   "execution_count": 40,
   "id": "b37edd66",
   "metadata": {
    "scrolled": false
   },
   "outputs": [
    {
     "data": {
      "application/vnd.jupyter.widget-view+json": {
       "model_id": "866880ed72274e0296b039003ba6ef00",
       "version_major": 2,
       "version_minor": 0
      },
      "text/plain": [
       "VBox(children=(Label(value='Average Cost ($):'), BoundedFloatText(value=0.0, continuous_update=True, max=10000…"
      ]
     },
     "metadata": {},
     "output_type": "display_data"
    }
   ],
   "source": [
    "avg_cost_label = widgets.Label(\"Average Cost ($):\")\n",
    "avg_cost_text = widgets.BoundedFloatText(min = 0, max = 1000000000, step = 0.01, style = {'description_width': 'initial'}, continuous_update = True)\n",
    "\n",
    "loss_perc_label = widgets.Label(\"Loss (%):\")\n",
    "loss_perc_slider = widgets.IntSlider(min = -100, max = 0)\n",
    "loss = widgets.VBox([loss_perc_label, loss_perc_slider])\n",
    "\n",
    "profit_perc_label = widgets.Label(\"Profit (%):\")\n",
    "profit_perc_slider = widgets.IntSlider(min = 0, max = 100)\n",
    "profit = widgets.VBox([profit_perc_label, profit_perc_slider])\n",
    "\n",
    "stop_label = widgets.Label(\"Stop:\")\n",
    "stop_price_label = widgets.Label(\"$0.00\")\n",
    "stop = widgets.VBox([stop_label, stop_price_label])\n",
    "\n",
    "limit_label = widgets.Label(\"Limit:\")\n",
    "limit_price_label = widgets.Label(\"$0.00\")\n",
    "limit = widgets.VBox([limit_label, limit_price_label])\n",
    "\n",
    "def update_loss_perc(change):\n",
    "    update_stop(change)\n",
    "\n",
    "def update_profit_perc(change):\n",
    "    update_limit(change)\n",
    "    \n",
    "def update_avg_cost(change):\n",
    "    stop_price_label.value = \"${:,.2f}\".format(change['new'] * 0.01 * (100 - abs(loss_perc_slider.value)))\n",
    "    limit_price_label.value = \"${:,.2f}\".format(change['new'] * (1 + 0.01 * profit_perc_slider.value))\n",
    "    \n",
    "def update_stop(change):\n",
    "    stop_price_label.value = \"${:,.2f}\".format(avg_cost_text.value * 0.01 * (100 - abs(change['new'])))\n",
    "    \n",
    "def update_limit(change):\n",
    "    limit_price_label.value = \"${:,.2f}\".format(avg_cost_text.value * (1 + 0.01 * change['new']))\n",
    "    \n",
    "page = widgets.VBox([avg_cost_label, avg_cost_text, widgets.HBox([widgets.VBox([loss, profit]), widgets.VBox([stop, limit])])])\n",
    "\n",
    "loss_perc_slider.observe(update_loss_perc, names = 'value')\n",
    "profit_perc_slider.observe(update_profit_perc, names = 'value')\n",
    "avg_cost_text.observe(update_avg_cost, names = 'value')\n",
    "\n",
    "display(page)"
   ]
  }
 ],
 "metadata": {
  "kernelspec": {
   "display_name": "Python 3",
   "language": "python",
   "name": "python3"
  },
  "language_info": {
   "codemirror_mode": {
    "name": "ipython",
    "version": 3
   },
   "file_extension": ".py",
   "mimetype": "text/x-python",
   "name": "python",
   "nbconvert_exporter": "python",
   "pygments_lexer": "ipython3",
   "version": "3.8.8"
  }
 },
 "nbformat": 4,
 "nbformat_minor": 5
}
